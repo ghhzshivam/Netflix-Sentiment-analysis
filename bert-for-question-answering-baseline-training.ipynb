{
 "cells": [
  {
   "cell_type": "markdown",
   "id": "automated-juvenile",
   "metadata": {
    "papermill": {
     "duration": 0.028095,
     "end_time": "2021-04-10T09:59:05.678877",
     "exception": false,
     "start_time": "2021-04-10T09:59:05.650782",
     "status": "completed"
    },
    "tags": []
   },
   "source": [
    "# 🤗 Bert for Question Answering Baseline: Training\n",
    "\n",
    "This code is adapted from my work in the Tweet Sentiment Extraction Competition.\n",
    "\n",
    "It tackles the task as a Question Answering one, where the question is implicit and can be understood as : \"Which datasets are mentionned ?\"\n",
    "\n",
    "\n",
    "The approach is quite naïve and has a lot of flaws. Feel free to ask any question in the comments.\n",
    "\n",
    "Inference Kernel : https://www.kaggle.com/theoviel/bert-for-question-answering-baseline-inference"
   ]
  },
  {
   "cell_type": "markdown",
   "id": "satisfactory-induction",
   "metadata": {
    "papermill": {
     "duration": 0.025589,
     "end_time": "2021-04-10T09:59:05.730731",
     "exception": false,
     "start_time": "2021-04-10T09:59:05.705142",
     "status": "completed"
    },
    "tags": []
   },
   "source": [
    "# Initialization"
   ]
  },
  {
   "cell_type": "markdown",
   "id": "environmental-stupid",
   "metadata": {
    "papermill": {
     "duration": 0.025992,
     "end_time": "2021-04-10T09:59:05.782868",
     "exception": false,
     "start_time": "2021-04-10T09:59:05.756876",
     "status": "completed"
    },
    "tags": []
   },
   "source": [
    "## Imports"
   ]
  },
  {
   "cell_type": "code",
   "execution_count": 1,
   "id": "applicable-bridges",
   "metadata": {
    "_kg_hide-input": true,
    "execution": {
     "iopub.execute_input": "2021-04-10T09:59:05.843194Z",
     "iopub.status.busy": "2021-04-10T09:59:05.841118Z",
     "iopub.status.idle": "2021-04-10T09:59:16.709337Z",
     "shell.execute_reply": "2021-04-10T09:59:16.708042Z"
    },
    "papermill": {
     "duration": 10.899232,
     "end_time": "2021-04-10T09:59:16.709577",
     "exception": false,
     "start_time": "2021-04-10T09:59:05.810345",
     "status": "completed"
    },
    "tags": []
   },
   "outputs": [],
   "source": [
    "import re\n",
    "import os\n",
    "import gc\n",
    "import glob\n",
    "import json\n",
    "import time\n",
    "import torch\n",
    "import random\n",
    "import datetime\n",
    "import tokenizers\n",
    "import numpy as np\n",
    "import transformers\n",
    "import pandas as pd\n",
    "import torch.nn as nn\n",
    "import seaborn as sns\n",
    "import matplotlib.pyplot as plt\n",
    "\n",
    "from tokenizers import *\n",
    "from transformers import *\n",
    "from functools import partial\n",
    "from tqdm.notebook import tqdm\n",
    "from torch.nn import functional as F\n",
    "from torch.utils.data import Dataset, DataLoader\n",
    "from sklearn.model_selection import GroupKFold"
   ]
  },
  {
   "cell_type": "markdown",
   "id": "rising-agriculture",
   "metadata": {
    "papermill": {
     "duration": 0.026359,
     "end_time": "2021-04-10T09:59:16.763109",
     "exception": false,
     "start_time": "2021-04-10T09:59:16.736750",
     "status": "completed"
    },
    "tags": []
   },
   "source": [
    "## Params"
   ]
  },
  {
   "cell_type": "code",
   "execution_count": 2,
   "id": "lasting-classification",
   "metadata": {
    "_kg_hide-input": true,
    "execution": {
     "iopub.execute_input": "2021-04-10T09:59:16.823016Z",
     "iopub.status.busy": "2021-04-10T09:59:16.822092Z",
     "iopub.status.idle": "2021-04-10T09:59:16.825357Z",
     "shell.execute_reply": "2021-04-10T09:59:16.825920Z"
    },
    "papermill": {
     "duration": 0.036519,
     "end_time": "2021-04-10T09:59:16.826088",
     "exception": false,
     "start_time": "2021-04-10T09:59:16.789569",
     "status": "completed"
    },
    "tags": []
   },
   "outputs": [],
   "source": [
    "SEED = 2020\n",
    "\n",
    "DATA_PATH = \"../input/coleridgeinitiative-show-us-the-data/\"\n",
    "DATA_PATH_TRAIN = DATA_PATH + 'train/'\n",
    "DATA_PATH_TEST = DATA_PATH + 'test/'\n",
    "\n",
    "NUM_WORKERS = 4\n",
    "\n",
    "VOCABS = {\n",
    "    \"bert-base-uncased\": \"../input/vocabs/bert-base-uncased-vocab.txt\",\n",
    "}\n",
    "\n",
    "MODEL_PATHS = {\n",
    "    'bert-base-uncased': '../input/bertconfigs/uncased_L-12_H-768_A-12/uncased_L-12_H-768_A-12/',\n",
    "    'bert-large-uncased-whole-word-masking-finetuned-squad': '../input/bertconfigs/wwm_uncased_L-24_H-1024_A-16/wwm_uncased_L-24_H-1024_A-16/',\n",
    "    'albert-large-v2': '../input/albert-configs/albert-large-v2/albert-large-v2/',\n",
    "    'albert-base-v2': '../input/albert-configs/albert-base-v2/albert-base-v2/',\n",
    "    'distilbert': '../input/albert-configs/distilbert/distilbert/',\n",
    "}"
   ]
  },
  {
   "cell_type": "markdown",
   "id": "missing-church",
   "metadata": {
    "papermill": {
     "duration": 0.026571,
     "end_time": "2021-04-10T09:59:16.879490",
     "exception": false,
     "start_time": "2021-04-10T09:59:16.852919",
     "status": "completed"
    },
    "tags": []
   },
   "source": [
    "# Data Preparation\n",
    "Instead of having labels at article level, I refine the definition to section level. This allows for less sparsity. "
   ]
  },
  {
   "cell_type": "code",
   "execution_count": 3,
   "id": "opposite-worry",
   "metadata": {
    "_kg_hide-input": true,
    "execution": {
     "iopub.execute_input": "2021-04-10T09:59:16.945252Z",
     "iopub.status.busy": "2021-04-10T09:59:16.941974Z",
     "iopub.status.idle": "2021-04-10T09:59:16.948601Z",
     "shell.execute_reply": "2021-04-10T09:59:16.948058Z"
    },
    "papermill": {
     "duration": 0.041759,
     "end_time": "2021-04-10T09:59:16.948732",
     "exception": false,
     "start_time": "2021-04-10T09:59:16.906973",
     "status": "completed"
    },
    "tags": []
   },
   "outputs": [],
   "source": [
    "def load_text(id_, root=\"\"):\n",
    "    with open(os.path.join(root, id_ + \".json\")) as f:\n",
    "        text = json.load(f)\n",
    "    return text\n",
    "\n",
    "\n",
    "def clean_text(txt):\n",
    "    return re.sub('[^A-Za-z0-9]+', ' ', str(txt).lower()).strip()\n",
    "\n",
    "\n",
    "def create_data():\n",
    "    new_df = []\n",
    "\n",
    "    for idx in tqdm(range(len(df))):\n",
    "        article = load_text(df['Id'][idx], DATA_PATH_TRAIN)\n",
    "        id_, pub_title, dataset_title, dataset_label, cleaned_label = df.iloc[idx]\n",
    "        \n",
    "        \n",
    "        for i, section in enumerate(article):\n",
    "            text = section['text']\n",
    "            title = section['section_title']\n",
    "            \n",
    "            cleaned_text = clean_text(section['text'])\n",
    "            \n",
    "            found = cleaned_label in cleaned_text\n",
    "    \n",
    "            dic = {\n",
    "                \"id\": [id_], \n",
    "                \"section_id\": [i],\n",
    "                \"pub_title\": [pub_title], \n",
    "                \"dataset_title\": [dataset_title], \n",
    "                \"dataset_label\": [dataset_label], \n",
    "                \"cleaned_label\": [cleaned_label],\n",
    "                \"text\": [text],\n",
    "                \"cleaned_text\": [cleaned_text],\n",
    "                \"label_found\": [found],\n",
    "            }\n",
    "            new_df.append(pd.DataFrame.from_dict(dic))\n",
    "            \n",
    "    return pd.concat(new_df).reset_index(drop=True)"
   ]
  },
  {
   "cell_type": "code",
   "execution_count": 4,
   "id": "coastal-kelly",
   "metadata": {
    "execution": {
     "iopub.execute_input": "2021-04-10T09:59:17.008683Z",
     "iopub.status.busy": "2021-04-10T09:59:17.007960Z",
     "iopub.status.idle": "2021-04-10T10:15:36.315921Z",
     "shell.execute_reply": "2021-04-10T10:15:36.311924Z"
    },
    "papermill": {
     "duration": 979.34069,
     "end_time": "2021-04-10T10:15:36.316103",
     "exception": false,
     "start_time": "2021-04-10T09:59:16.975413",
     "status": "completed"
    },
    "tags": []
   },
   "outputs": [
    {
     "data": {
      "application/vnd.jupyter.widget-view+json": {
       "model_id": "25ff46eff2dd4787ba6307706d08b81d",
       "version_major": 2,
       "version_minor": 0
      },
      "text/plain": [
       "  0%|          | 0/19661 [00:00<?, ?it/s]"
      ]
     },
     "metadata": {},
     "output_type": "display_data"
    }
   ],
   "source": [
    "df = pd.read_csv(DATA_PATH + 'train.csv')\n",
    "\n",
    "new_df = create_data()  # Quite slow, could be sped-up with multi-processing."
   ]
  },
  {
   "cell_type": "code",
   "execution_count": 5,
   "id": "functional-opera",
   "metadata": {
    "_kg_hide-input": true,
    "execution": {
     "iopub.execute_input": "2021-04-10T10:15:36.397442Z",
     "iopub.status.busy": "2021-04-10T10:15:36.396449Z",
     "iopub.status.idle": "2021-04-10T10:15:36.587128Z",
     "shell.execute_reply": "2021-04-10T10:15:36.587625Z"
    },
    "papermill": {
     "duration": 0.243974,
     "end_time": "2021-04-10T10:15:36.587793",
     "exception": false,
     "start_time": "2021-04-10T10:15:36.343819",
     "status": "completed"
    },
    "tags": []
   },
   "outputs": [
    {
     "data": {
      "image/png": "[encoded data removed]",
      "text/plain": [
       "<Figure size 432x288 with 1 Axes>"
      ]
     },
     "metadata": {
      "needs_background": "light"
     },
     "output_type": "display_data"
    }
   ],
   "source": [
    "sns.countplot(x=new_df['label_found'])\n",
    "plt.show()"
   ]
  },
  {
   "cell_type": "markdown",
   "id": "cross-spring",
   "metadata": {
    "papermill": {
     "duration": 0.026683,
     "end_time": "2021-04-10T10:15:36.642478",
     "exception": false,
     "start_time": "2021-04-10T10:15:36.615795",
     "status": "completed"
    },
    "tags": []
   },
   "source": [
    "A lot of sections have no label found, I won't use them for training."
   ]
  },
  {
   "cell_type": "code",
   "execution_count": 6,
   "id": "qualified-footwear",
   "metadata": {
    "execution": {
     "iopub.execute_input": "2021-04-10T10:15:36.705029Z",
     "iopub.status.busy": "2021-04-10T10:15:36.703598Z",
     "iopub.status.idle": "2021-04-10T10:15:49.938015Z",
     "shell.execute_reply": "2021-04-10T10:15:49.936855Z"
    },
    "papermill": {
     "duration": 13.268861,
     "end_time": "2021-04-10T10:15:49.938170",
     "exception": false,
     "start_time": "2021-04-10T10:15:36.669309",
     "status": "completed"
    },
    "tags": []
   },
   "outputs": [],
   "source": [
    "df = new_df[new_df['label_found']].reset_index(drop=True)\n",
    "\n",
    "df['length'] = df['cleaned_text'].apply(lambda x: len(x.split()))\n",
    "df = df[df['length'] < 3000]  # remove too long texts\n",
    "\n",
    "df.to_csv(\"df_train.csv\", index=False)  # saving, just in case"
   ]
  },
  {
   "cell_type": "markdown",
   "id": "blocked-workstation",
   "metadata": {
    "papermill": {
     "duration": 0.031662,
     "end_time": "2021-04-10T10:15:49.997705",
     "exception": false,
     "start_time": "2021-04-10T10:15:49.966043",
     "status": "completed"
    },
    "tags": []
   },
   "source": [
    "# Training a Model"
   ]
  },
  {
   "cell_type": "markdown",
   "id": "closed-astrology",
   "metadata": {
    "_kg_hide-input": true,
    "papermill": {
     "duration": 0.028479,
     "end_time": "2021-04-10T10:15:50.055527",
     "exception": false,
     "start_time": "2021-04-10T10:15:50.027048",
     "status": "completed"
    },
    "tags": []
   },
   "source": [
    "# Utils"
   ]
  },
  {
   "cell_type": "code",
   "execution_count": 7,
   "id": "pacific-truth",
   "metadata": {
    "_kg_hide-input": true,
    "execution": {
     "iopub.execute_input": "2021-04-10T10:15:50.126769Z",
     "iopub.status.busy": "2021-04-10T10:15:50.125671Z",
     "iopub.status.idle": "2021-04-10T10:15:50.129678Z",
     "shell.execute_reply": "2021-04-10T10:15:50.129060Z"
    },
    "papermill": {
     "duration": 0.044555,
     "end_time": "2021-04-10T10:15:50.129856",
     "exception": false,
     "start_time": "2021-04-10T10:15:50.085301",
     "status": "completed"
    },
    "tags": []
   },
   "outputs": [],
   "source": [
    "def seed_everything(seed):\n",
    "    \"\"\"\n",
    "    Seeds basic parameters for reproductibility of results.\n",
    "\n",
    "    Args:\n",
    "        seed (int): Number of the seed.\n",
    "    \"\"\"\n",
    "\n",
    "    random.seed(seed)\n",
    "    os.environ[\"PYTHONHASHSEED\"] = str(seed)\n",
    "    np.random.seed(seed)\n",
    "    torch.manual_seed(seed)\n",
    "    torch.cuda.manual_seed(seed)\n",
    "    torch.backends.cudnn.deterministic = True\n",
    "    torch.backends.cudnn.benchmark = False\n",
    "\n",
    "\n",
    "def save_model_weights(model, filename, verbose=1, cp_folder=\"\"):\n",
    "    \"\"\"\n",
    "    Saves the weights of a PyTorch model.\n",
    "\n",
    "    Args:\n",
    "        model (torch model): Model to save the weights of.\n",
    "        filename (str): Name of the checkpoint.\n",
    "        verbose (int, optional): Whether to display infos. Defaults to 1.\n",
    "        cp_folder (str, optional): Folder to save to. Defaults to \"\".\n",
    "    \"\"\"\n",
    "\n",
    "    if verbose:\n",
    "        print(f\"\\n -> Saving weights to {os.path.join(cp_folder, filename)}\\n\")\n",
    "    torch.save(model.state_dict(), os.path.join(cp_folder, filename))\n",
    "\n",
    "\n",
    "def count_parameters(model, all=False):\n",
    "    \"\"\"\n",
    "    Count the parameters of a model.\n",
    "\n",
    "    Args:\n",
    "        model (torch model): Model to count the parameters of.\n",
    "        all (bool, optional):  Whether to count not trainable parameters. Defaults to False.\n",
    "\n",
    "    Returns:\n",
    "        int: Number of parameters.\n",
    "    \"\"\"\n",
    "\n",
    "    if all:\n",
    "        return sum(p.numel() for p in model.parameters())\n",
    "    else:\n",
    "        return sum(p.numel() for p in model.parameters() if p.requires_grad)\n"
   ]
  },
  {
   "cell_type": "markdown",
   "id": "minus-honolulu",
   "metadata": {
    "papermill": {
     "duration": 0.02854,
     "end_time": "2021-04-10T10:15:50.186847",
     "exception": false,
     "start_time": "2021-04-10T10:15:50.158307",
     "status": "completed"
    },
    "tags": []
   },
   "source": [
    "# Data"
   ]
  },
  {
   "cell_type": "markdown",
   "id": "academic-diving",
   "metadata": {
    "papermill": {
     "duration": 0.028459,
     "end_time": "2021-04-10T10:15:50.243622",
     "exception": false,
     "start_time": "2021-04-10T10:15:50.215163",
     "status": "completed"
    },
    "tags": []
   },
   "source": [
    "## Tokenizer"
   ]
  },
  {
   "cell_type": "code",
   "execution_count": 8,
   "id": "appropriate-criminal",
   "metadata": {
    "_kg_hide-input": true,
    "execution": {
     "iopub.execute_input": "2021-04-10T10:15:50.308071Z",
     "iopub.status.busy": "2021-04-10T10:15:50.306939Z",
     "iopub.status.idle": "2021-04-10T10:15:50.310618Z",
     "shell.execute_reply": "2021-04-10T10:15:50.310034Z"
    },
    "papermill": {
     "duration": 0.039253,
     "end_time": "2021-04-10T10:15:50.310758",
     "exception": false,
     "start_time": "2021-04-10T10:15:50.271505",
     "status": "completed"
    },
    "tags": []
   },
   "outputs": [],
   "source": [
    "class EncodedText:\n",
    "    def __init__(self, ids, offsets):\n",
    "        self.ids = ids\n",
    "        self.offsets = offsets\n",
    "\n",
    "\n",
    "def create_tokenizer_and_tokens(config):\n",
    "    if \"roberta\" in config.selected_model:\n",
    "        raise NotImplementedError\n",
    "        \n",
    "    elif \"albert\" in config.selected_model:\n",
    "        raise NotImplementedError\n",
    "        \n",
    "    else:\n",
    "        tokenizer = BertWordPieceTokenizer(\n",
    "            MODEL_PATHS[config.selected_model] + 'vocab.txt',\n",
    "            lowercase=config.lowercase,\n",
    "        )\n",
    "\n",
    "        tokens = {\n",
    "            'cls': tokenizer.token_to_id('[CLS]'),\n",
    "            'sep': tokenizer.token_to_id('[SEP]'),\n",
    "            'pad': tokenizer.token_to_id('[PAD]'),\n",
    "        }\n",
    "    \n",
    "    return tokenizer, tokens"
   ]
  },
  {
   "cell_type": "markdown",
   "id": "elder-equation",
   "metadata": {
    "papermill": {
     "duration": 0.02852,
     "end_time": "2021-04-10T10:15:50.368326",
     "exception": false,
     "start_time": "2021-04-10T10:15:50.339806",
     "status": "completed"
    },
    "tags": []
   },
   "source": [
    "## Locating labels"
   ]
  },
  {
   "cell_type": "code",
   "execution_count": 9,
   "id": "duplicate-driver",
   "metadata": {
    "_kg_hide-input": true,
    "execution": {
     "iopub.execute_input": "2021-04-10T10:15:50.437540Z",
     "iopub.status.busy": "2021-04-10T10:15:50.436472Z",
     "iopub.status.idle": "2021-04-10T10:15:50.439806Z",
     "shell.execute_reply": "2021-04-10T10:15:50.440354Z"
    },
    "papermill": {
     "duration": 0.043066,
     "end_time": "2021-04-10T10:15:50.440562",
     "exception": false,
     "start_time": "2021-04-10T10:15:50.397496",
     "status": "completed"
    },
    "tags": []
   },
   "outputs": [],
   "source": [
    "def locate_label_string(text, label):\n",
    "    \"\"\"\n",
    "    Finds the label in the text\n",
    "    \"\"\"\n",
    "    len_label = len(label) - 1\n",
    "\n",
    "    candidates_idx = [i for i, e in enumerate(text) if e == label[1]]\n",
    "    for idx in candidates_idx:\n",
    "        if \" \" + text[idx: idx + len_label] == label:\n",
    "            idx_start = idx\n",
    "            idx_end = idx + len_label\n",
    "            break\n",
    "\n",
    "    assert (\n",
    "        text[idx_start:idx_end] == label[1:]\n",
    "    ), f'\"{text[idx_start: idx_end]}\" instead of \"{label}\" in \"{text}\"'\n",
    "\n",
    "    char_targets = np.zeros(len(text))\n",
    "    char_targets[idx_start:idx_end] = 1\n",
    "\n",
    "    return idx_start, idx_end, char_targets\n",
    "\n",
    "\n",
    "def locate_label_tokens(offsets, char_targets):\n",
    "    \"\"\"\n",
    "    Finds the tokens corresponding to the found labels\n",
    "    \"\"\"\n",
    "    target_idx = []\n",
    "    for idx, (offset1, offset2) in enumerate(offsets):\n",
    "        if sum(char_targets[offset1:offset2]) > 0:\n",
    "            target_idx.append(idx)\n",
    "\n",
    "    if not len(target_idx):\n",
    "        for idx, (offset1, offset2) in enumerate(offsets):\n",
    "            if sum(char_targets[offset1:offset2]) > 0:\n",
    "                target_idx.append(idx)\n",
    "\n",
    "    return target_idx[0], target_idx[-1]"
   ]
  },
  {
   "cell_type": "markdown",
   "id": "distributed-click",
   "metadata": {
    "papermill": {
     "duration": 0.028844,
     "end_time": "2021-04-10T10:15:50.499346",
     "exception": false,
     "start_time": "2021-04-10T10:15:50.470502",
     "status": "completed"
    },
    "tags": []
   },
   "source": [
    "## Process sample"
   ]
  },
  {
   "cell_type": "code",
   "execution_count": 10,
   "id": "presidential-neighbor",
   "metadata": {
    "_kg_hide-input": true,
    "execution": {
     "iopub.execute_input": "2021-04-10T10:15:50.574516Z",
     "iopub.status.busy": "2021-04-10T10:15:50.573530Z",
     "iopub.status.idle": "2021-04-10T10:15:50.577369Z",
     "shell.execute_reply": "2021-04-10T10:15:50.576829Z"
    },
    "papermill": {
     "duration": 0.049089,
     "end_time": "2021-04-10T10:15:50.577543",
     "exception": false,
     "start_time": "2021-04-10T10:15:50.528454",
     "status": "completed"
    },
    "tags": []
   },
   "outputs": [],
   "source": [
    "def process_data(\n",
    "    text,\n",
    "    label,\n",
    "    tokenizer,\n",
    "    tokens,\n",
    "    max_len=100,\n",
    "    model_name=\"bert\",\n",
    "):\n",
    "    \"\"\"\n",
    "    Prepares the data for the question answering task.\n",
    "    Adapted from Abishek's work on the Tweet Sentiment extraction competition, \n",
    "    check his work for more details !\n",
    "    \"\"\"\n",
    "    target_start, target_end = 0, 0\n",
    "    text = \" \" + \" \".join(str(text).split())\n",
    "    label = \" \" + \" \".join(str(label).split())\n",
    "\n",
    "    if label != \" \":\n",
    "        idx_start, idx_end, char_targets = locate_label_string(\n",
    "            text, label\n",
    "        )\n",
    "\n",
    "    tokenized = tokenizer.encode(text)\n",
    "    input_ids_text = tokenized.ids[1:-1]\n",
    "\n",
    "    # print(input_ids_text, len(input_ids_text))\n",
    "\n",
    "    offsets = tokenized.offsets[1:-1]\n",
    "\n",
    "    if label != \" \":\n",
    "        target_start, target_end = locate_label_tokens(offsets, char_targets)\n",
    "\n",
    "    if target_end >= max_len - 2:  # target is too far in the sentence, we crop its beginning.\n",
    "        n_tok_to_crop = target_start - max_len // 2\n",
    "        new_str_start = offsets[n_tok_to_crop][0]\n",
    "\n",
    "        input_ids_text = input_ids_text[n_tok_to_crop:]\n",
    "\n",
    "        offsets = [tuple(t) for t in np.array(offsets[n_tok_to_crop:]) - new_str_start]\n",
    "        text = text[new_str_start:]\n",
    "\n",
    "        target_start -= n_tok_to_crop\n",
    "        target_end -= n_tok_to_crop\n",
    "\n",
    "    input_ids = (\n",
    "        [tokens[\"cls\"]]\n",
    "        + input_ids_text[:max_len - 2]\n",
    "        + [tokens[\"sep\"]]\n",
    "    )\n",
    "\n",
    "    if \"roberta\" in model_name:\n",
    "        token_type_ids = [0] * len(input_ids)\n",
    "    else:\n",
    "        token_type_ids = [1] * len(input_ids)\n",
    "\n",
    "    text_offsets = [(0, 0)] + offsets[:max_len - 2] + [(0, 0)]\n",
    "\n",
    "    target_start += 1\n",
    "    target_end += 1\n",
    "\n",
    "    # target_end = min(target_end, max_len - 1)\n",
    "\n",
    "    assert len(input_ids) == len(token_type_ids) and len(input_ids) == len(text_offsets), (len(input_ids), len(text_offsets))  # noqa\n",
    "\n",
    "    padding_length = max_len - len(input_ids)\n",
    "    if padding_length > 0:\n",
    "        input_ids = input_ids + ([tokens[\"pad\"]] * padding_length)\n",
    "        token_type_ids = token_type_ids + ([0] * padding_length)\n",
    "        text_offsets = text_offsets + ([(0, 0)] * padding_length)\n",
    "\n",
    "    return {\n",
    "        \"ids\": input_ids,\n",
    "        \"token_type_ids\": token_type_ids,\n",
    "        \"targets_start\": target_start,\n",
    "        \"targets_end\": target_end,\n",
    "        \"text\": text,\n",
    "        \"label\": label,\n",
    "        \"offsets\": text_offsets,\n",
    "    }"
   ]
  },
  {
   "cell_type": "markdown",
   "id": "american-house",
   "metadata": {
    "papermill": {
     "duration": 0.027868,
     "end_time": "2021-04-10T10:15:50.633523",
     "exception": false,
     "start_time": "2021-04-10T10:15:50.605655",
     "status": "completed"
    },
    "tags": []
   },
   "source": [
    "### Dataset"
   ]
  },
  {
   "cell_type": "code",
   "execution_count": 11,
   "id": "later-newark",
   "metadata": {
    "_kg_hide-input": true,
    "execution": {
     "iopub.execute_input": "2021-04-10T10:15:50.699916Z",
     "iopub.status.busy": "2021-04-10T10:15:50.699041Z",
     "iopub.status.idle": "2021-04-10T10:15:50.702662Z",
     "shell.execute_reply": "2021-04-10T10:15:50.702035Z"
    },
    "papermill": {
     "duration": 0.041602,
     "end_time": "2021-04-10T10:15:50.702788",
     "exception": false,
     "start_time": "2021-04-10T10:15:50.661186",
     "status": "completed"
    },
    "tags": []
   },
   "outputs": [],
   "source": [
    "class SectionDataset(Dataset):\n",
    "    def __init__(\n",
    "        self,\n",
    "        df,\n",
    "        tokenizer,\n",
    "        tokens,\n",
    "        max_len=512,\n",
    "        model_name=\"bert\",\n",
    "    ):\n",
    "        self.tokens = tokens\n",
    "        self.tokenizer = tokenizer\n",
    "        self.max_len = max_len\n",
    "        self.model_name = model_name\n",
    "\n",
    "        self.texts = df[\"cleaned_text\"].values\n",
    "        self.labels = df[\"cleaned_label\"].values\n",
    "\n",
    "    def __len__(self):\n",
    "        return len(self.texts)\n",
    "\n",
    "    def __getitem__(self, idx):\n",
    "        data = process_data(\n",
    "            self.texts[idx],\n",
    "            self.labels[idx],\n",
    "            self.tokenizer,\n",
    "            self.tokens,\n",
    "            max_len=self.max_len,\n",
    "            model_name=self.model_name,\n",
    "        )\n",
    "\n",
    "        return {\n",
    "            \"ids\": torch.tensor(data[\"ids\"], dtype=torch.long),\n",
    "            \"token_type_ids\": torch.tensor(data[\"token_type_ids\"], dtype=torch.long),\n",
    "            \"target_start\": torch.tensor(data[\"targets_start\"], dtype=torch.long),\n",
    "            \"target_end\": torch.tensor(data[\"targets_end\"], dtype=torch.long),\n",
    "            \"text\": data[\"text\"],\n",
    "            \"label\": data[\"label\"],\n",
    "            \"offsets\": torch.tensor(data[\"offsets\"], dtype=torch.long),\n",
    "        }"
   ]
  },
  {
   "cell_type": "markdown",
   "id": "attended-wallpaper",
   "metadata": {
    "papermill": {
     "duration": 0.028873,
     "end_time": "2021-04-10T10:15:50.760966",
     "exception": false,
     "start_time": "2021-04-10T10:15:50.732093",
     "status": "completed"
    },
    "tags": []
   },
   "source": [
    "## Model"
   ]
  },
  {
   "cell_type": "code",
   "execution_count": 12,
   "id": "fewer-interim",
   "metadata": {
    "_kg_hide-input": true,
    "execution": {
     "iopub.execute_input": "2021-04-10T10:15:50.832109Z",
     "iopub.status.busy": "2021-04-10T10:15:50.831036Z",
     "iopub.status.idle": "2021-04-10T10:15:50.834674Z",
     "shell.execute_reply": "2021-04-10T10:15:50.834033Z"
    },
    "papermill": {
     "duration": 0.045072,
     "end_time": "2021-04-10T10:15:50.834809",
     "exception": false,
     "start_time": "2021-04-10T10:15:50.789737",
     "status": "completed"
    },
    "tags": []
   },
   "outputs": [],
   "source": [
    "TRANSFORMERS = {\n",
    "    \"roberta-base\": (RobertaModel, \"roberta-base\"),\n",
    "    'albert-base-v2': (AlbertModel, 'albert-base-v2'),\n",
    "    'albert-large-v2': (AlbertModel, 'albert-large-v2'),\n",
    "    'albert-xlarge-v2': (AlbertModel, 'albert-xlarge-v2'),\n",
    "    'albert-xxlarge-v2': (AlbertModel, 'albert-xxlarge-v2'),\n",
    "    \"bert-base-uncased\": (BertModel, \"bert-base-uncased\"),\n",
    "    \"bert-base-cased\": (BertModel, \"bert-base-cased\"),\n",
    "    \"bert-large-uncased-whole-word-masking\": (BertModel, \"bert-large-uncased-whole-word-masking\"),\n",
    "    \"distilbert-base-uncased-distilled-squad\": (\n",
    "        DistilBertModel,\n",
    "        \"distilbert-base-uncased-distilled-squad\"\n",
    "    )\n",
    "}\n",
    "\n",
    "\n",
    "class QATransformer(nn.Module):\n",
    "    def __init__(self, model):\n",
    "        super().__init__()\n",
    "        self.name = model\n",
    "\n",
    "        self.pad_idx = 1 if \"roberta\" in self.name else 0\n",
    "\n",
    "        model_class, pretrained_weights = TRANSFORMERS[model]\n",
    "\n",
    "        self.transformer = model_class.from_pretrained(\n",
    "            pretrained_weights, output_hidden_states=True\n",
    "        )\n",
    "\n",
    "        self.nb_features = self.transformer.pooler.dense.out_features\n",
    "\n",
    "        self.logits = nn.Sequential(\n",
    "            nn.Linear(self.nb_features, self.nb_features),\n",
    "            nn.Tanh(),\n",
    "            nn.Linear(self.nb_features, 2),\n",
    "        )\n",
    "\n",
    "    def forward(self, tokens, token_type_ids):\n",
    "        \"\"\"\n",
    "        Usual torch forward function\n",
    "\n",
    "        Arguments:\n",
    "            tokens {torch tensor} -- Sentence tokens\n",
    "            token_type_ids {torch tensor} -- Sentence tokens ids\n",
    "        \"\"\"\n",
    "\n",
    "        hidden_states = self.transformer(\n",
    "            tokens,\n",
    "            attention_mask=(tokens != self.pad_idx).long(),\n",
    "            token_type_ids=token_type_ids,\n",
    "        )[-1]\n",
    "\n",
    "        features = hidden_states[-1]\n",
    "        logits = self.logits(features)\n",
    "\n",
    "        start_logits, end_logits = logits[:, :, 0], logits[:, :, 1]\n",
    "\n",
    "        return start_logits, end_logits"
   ]
  },
  {
   "cell_type": "markdown",
   "id": "given-forge",
   "metadata": {
    "papermill": {
     "duration": 0.029054,
     "end_time": "2021-04-10T10:15:50.893158",
     "exception": false,
     "start_time": "2021-04-10T10:15:50.864104",
     "status": "completed"
    },
    "tags": []
   },
   "source": [
    "## Metric"
   ]
  },
  {
   "cell_type": "code",
   "execution_count": 13,
   "id": "applicable-income",
   "metadata": {
    "_kg_hide-input": true,
    "execution": {
     "iopub.execute_input": "2021-04-10T10:15:50.963948Z",
     "iopub.status.busy": "2021-04-10T10:15:50.963050Z",
     "iopub.status.idle": "2021-04-10T10:15:50.967359Z",
     "shell.execute_reply": "2021-04-10T10:15:50.966710Z"
    },
    "papermill": {
     "duration": 0.045355,
     "end_time": "2021-04-10T10:15:50.967524",
     "exception": false,
     "start_time": "2021-04-10T10:15:50.922169",
     "status": "completed"
    },
    "tags": []
   },
   "outputs": [],
   "source": [
    "def jaccard_similarity(s1, s2): # could be wrong, see CPMP's thread\n",
    "    l1 = s1.split(\" \")\n",
    "    l2 = s2.split(\" \")\n",
    "    intersection = len(list(set(l1).intersection(l2)))\n",
    "    union = (len(l1) + len(l2)) - intersection\n",
    "    return float(intersection) / union\n",
    "\n",
    "\n",
    "def compute_score(y_true, y_pred, beta=0.5):\n",
    "    \"\"\"\n",
    "    From https://www.kaggle.com/tungmphung/coleridge-initiative-local-score-computation/\n",
    "    \"\"\"\n",
    "    TP, FP, FN = 0, 0, 0\n",
    "\n",
    "    for truth, pred in zip(y_true, y_pred):\n",
    "        true_datasets = truth.split('|')\n",
    "        # Predicted strings for each publication are sorted alphabetically\n",
    "        # and processed in that order.\n",
    "        pred_datasets = sorted(pred.split('|'))\n",
    "\n",
    "        for true_dataset in true_datasets:\n",
    "            if len(pred_datasets):\n",
    "                match_scores = [jaccard_similarity(true_dataset, pred_dataset)\n",
    "                                for pred_dataset in pred_datasets]\n",
    "                # The prediction with the highest score for a given ground truth\n",
    "                # is matched with that ground truth.\n",
    "                match_index = np.argmax(match_scores)\n",
    "\n",
    "                if match_scores[match_index] >= 0.5:\n",
    "                    # Any matched predictions where the Jaccard score meets or\n",
    "                    # exceeds the threshold of 0.5 are counted as true positives (TP),\n",
    "                    TP += 1\n",
    "                else:\n",
    "                    # the remainder as false positives (FP).\n",
    "                    FP += 1\n",
    "\n",
    "                del(pred_datasets[match_index])\n",
    "            else:\n",
    "                # Any ground truths with no nearest predictions are counted as\n",
    "                # false negatives (FN).\n",
    "                FN += 1\n",
    "        # Any unmatched predictions are counted as false positives (FP).\n",
    "        FP += len(pred_datasets)\n",
    "\n",
    "    precision = TP / (TP + FP)\n",
    "    recall = TP / (TP + FN)\n",
    "    f_score = (1 + beta**2)*(precision*recall)/((beta**2)*precision + recall)\n",
    "\n",
    "    return f_score"
   ]
  },
  {
   "cell_type": "markdown",
   "id": "parental-suicide",
   "metadata": {
    "papermill": {
     "duration": 0.056013,
     "end_time": "2021-04-10T10:15:51.055969",
     "exception": false,
     "start_time": "2021-04-10T10:15:50.999956",
     "status": "completed"
    },
    "tags": []
   },
   "source": [
    "## Preds from probas"
   ]
  },
  {
   "cell_type": "code",
   "execution_count": 14,
   "id": "careful-recommendation",
   "metadata": {
    "_kg_hide-input": true,
    "execution": {
     "iopub.execute_input": "2021-04-10T10:15:51.193542Z",
     "iopub.status.busy": "2021-04-10T10:15:51.192303Z",
     "iopub.status.idle": "2021-04-10T10:15:51.201468Z",
     "shell.execute_reply": "2021-04-10T10:15:51.202894Z"
    },
    "papermill": {
     "duration": 0.079686,
     "end_time": "2021-04-10T10:15:51.203147",
     "exception": false,
     "start_time": "2021-04-10T10:15:51.123461",
     "status": "completed"
    },
    "tags": []
   },
   "outputs": [],
   "source": [
    "def get_string_from_idx(text, idx_start, idx_end, offsets):\n",
    "    \"\"\"\n",
    "    Uses the offsets to retrieve the predicted string based on the start and end indices\n",
    "    \"\"\"\n",
    "    if idx_end < idx_start:\n",
    "        idx_end = idx_start\n",
    "\n",
    "    predicted_string = \"\"\n",
    "    for i in range(idx_start, idx_end + 1):\n",
    "        predicted_string += text[offsets[i][0]: offsets[i][1]]\n",
    "        if i + 1 < len(offsets) and offsets[i][1] < offsets[i + 1][0]:\n",
    "            predicted_string += \" \"\n",
    "\n",
    "    return predicted_string\n",
    "\n",
    "def get_pred_from_logits(data, start_logits, end_logits, from_proba=False):\n",
    "    if not from_proba:\n",
    "        start_logits = torch.softmax(start_logits, dim=1).cpu().detach().numpy()\n",
    "        end_logits = torch.softmax(end_logits, dim=1).cpu().detach().numpy()\n",
    "\n",
    "    offsets = data[\"offsets\"].cpu().numpy()\n",
    "\n",
    "    preds = []\n",
    "    for i in range(len(start_logits)):\n",
    "        start_idx = np.argmax(start_logits[i])\n",
    "        end_idx = np.argmax(end_logits[i])\n",
    "        preds.append(get_string_from_idx(data[\"text\"][i], start_idx, end_idx, offsets[i]))\n",
    "\n",
    "    return preds"
   ]
  },
  {
   "cell_type": "markdown",
   "id": "elegant-swift",
   "metadata": {
    "papermill": {
     "duration": 0.052144,
     "end_time": "2021-04-10T10:15:51.313122",
     "exception": false,
     "start_time": "2021-04-10T10:15:51.260978",
     "status": "completed"
    },
    "tags": []
   },
   "source": [
    "## Loss"
   ]
  },
  {
   "cell_type": "code",
   "execution_count": 15,
   "id": "convenient-nerve",
   "metadata": {
    "_kg_hide-input": true,
    "execution": {
     "iopub.execute_input": "2021-04-10T10:15:51.422172Z",
     "iopub.status.busy": "2021-04-10T10:15:51.420976Z",
     "iopub.status.idle": "2021-04-10T10:15:51.435706Z",
     "shell.execute_reply": "2021-04-10T10:15:51.436866Z"
    },
    "papermill": {
     "duration": 0.072076,
     "end_time": "2021-04-10T10:15:51.437075",
     "exception": false,
     "start_time": "2021-04-10T10:15:51.364999",
     "status": "completed"
    },
    "tags": []
   },
   "outputs": [],
   "source": [
    "def ce_loss(\n",
    "    pred, truth, smoothing=False, trg_pad_idx=-1, eps=0.1\n",
    "):\n",
    "    \"\"\"\n",
    "    Computes the cross entropy loss with label smoothing\n",
    "\n",
    "    Args:\n",
    "        pred (torch tensor): Prediction\n",
    "        truth (torch tensor): Target\n",
    "        smoothing (bool, optional): Whether to use smoothing. Defaults to False.\n",
    "        trg_pad_idx (int, optional): Indices to ignore in the loss. Defaults to -1.\n",
    "        eps (float, optional): Smoothing coefficient. Defaults to 0.1.\n",
    "\n",
    "    Returns:\n",
    "        [type]: [description]\n",
    "    \"\"\"\n",
    "    truth = truth.contiguous().view(-1)\n",
    "\n",
    "    one_hot = torch.zeros_like(pred).scatter(1, truth.view(-1, 1), 1)\n",
    "\n",
    "    if smoothing:\n",
    "        n_class = pred.size(1)\n",
    "        one_hot = one_hot * (1 - eps) + (1 - one_hot) * eps / (n_class - 1)\n",
    "\n",
    "    loss = -one_hot * F.log_softmax(pred, dim=1)\n",
    "\n",
    "    if trg_pad_idx >= 0:\n",
    "        loss = loss.sum(dim=1)\n",
    "        non_pad_mask = truth.ne(trg_pad_idx)\n",
    "        loss = loss.masked_select(non_pad_mask)\n",
    "\n",
    "    return loss.sum()\n",
    "\n",
    "\n",
    "def qa_loss_fn(start_logits, end_logits, start_positions, end_positions, config):\n",
    "    \"\"\"\n",
    "    Loss function for the question answering task.\n",
    "    It is the sum of the cross entropy for the start and end logits\n",
    "\n",
    "    Args:\n",
    "        start_logits (torch tensor): Start logits\n",
    "        end_logits (torch tensor): End logits\n",
    "        start_positions (torch tensor): Start ground truth\n",
    "        end_positions (torch tensor): End ground truth\n",
    "        config (dict): Dictionary of parameters for the CE Loss.\n",
    "\n",
    "    Returns:\n",
    "        torch tensor: Loss value\n",
    "    \"\"\"\n",
    "    bs = start_logits.size(0)\n",
    "\n",
    "    start_loss = ce_loss(\n",
    "        start_logits,\n",
    "        start_positions,\n",
    "        smoothing=config[\"smoothing\"],\n",
    "        eps=config[\"eps\"],\n",
    "    )\n",
    "\n",
    "    end_loss = ce_loss(\n",
    "        end_logits,\n",
    "        end_positions,\n",
    "        smoothing=config[\"smoothing\"],\n",
    "        eps=config[\"eps\"],\n",
    "    )\n",
    "\n",
    "    total_loss = start_loss + end_loss\n",
    "\n",
    "    return total_loss / bs\n"
   ]
  },
  {
   "cell_type": "markdown",
   "id": "prepared-dietary",
   "metadata": {
    "papermill": {
     "duration": 0.049628,
     "end_time": "2021-04-10T10:15:51.537648",
     "exception": false,
     "start_time": "2021-04-10T10:15:51.488020",
     "status": "completed"
    },
    "tags": []
   },
   "source": [
    "## Trim tensors\n",
    "\n",
    "Helps for speedup"
   ]
  },
  {
   "cell_type": "code",
   "execution_count": 16,
   "id": "removable-portrait",
   "metadata": {
    "_kg_hide-input": true,
    "execution": {
     "iopub.execute_input": "2021-04-10T10:15:51.650806Z",
     "iopub.status.busy": "2021-04-10T10:15:51.649933Z",
     "iopub.status.idle": "2021-04-10T10:15:51.654503Z",
     "shell.execute_reply": "2021-04-10T10:15:51.655393Z"
    },
    "papermill": {
     "duration": 0.067444,
     "end_time": "2021-04-10T10:15:51.655720",
     "exception": false,
     "start_time": "2021-04-10T10:15:51.588276",
     "status": "completed"
    },
    "tags": []
   },
   "outputs": [],
   "source": [
    "def trim_tensors(tokens, input_ids, model_name='bert', min_len=10):\n",
    "    \"\"\"\n",
    "    Trim tensors so that within a batch, padding is shortened.\n",
    "    This speeds up training for RNNs and Transformers\n",
    "\n",
    "    Arguments:\n",
    "        tokens {torch tensor} -- Text tokens\n",
    "\n",
    "    Keyword Arguments:\n",
    "        min_len {int} -- Minimum length to trim to (default: {10})\n",
    "\n",
    "    Returns:\n",
    "        torch tensor -- trimmed tokens\n",
    "    \"\"\"\n",
    "    pad_token = 1 if \"roberta\" in model_name else 0\n",
    "    max_len = max(torch.max(torch.sum((tokens != pad_token), 1)), min_len)\n",
    "    return tokens[:, :max_len], input_ids[:, :max_len]"
   ]
  },
  {
   "cell_type": "markdown",
   "id": "imposed-reaction",
   "metadata": {
    "papermill": {
     "duration": 0.053798,
     "end_time": "2021-04-10T10:15:51.776437",
     "exception": false,
     "start_time": "2021-04-10T10:15:51.722639",
     "status": "completed"
    },
    "tags": []
   },
   "source": [
    "## Fit function"
   ]
  },
  {
   "cell_type": "code",
   "execution_count": 17,
   "id": "fantastic-rings",
   "metadata": {
    "_kg_hide-input": true,
    "execution": {
     "iopub.execute_input": "2021-04-10T10:15:51.876680Z",
     "iopub.status.busy": "2021-04-10T10:15:51.875750Z",
     "iopub.status.idle": "2021-04-10T10:15:51.897142Z",
     "shell.execute_reply": "2021-04-10T10:15:51.898231Z"
    },
    "papermill": {
     "duration": 0.076334,
     "end_time": "2021-04-10T10:15:51.898458",
     "exception": false,
     "start_time": "2021-04-10T10:15:51.822124",
     "status": "completed"
    },
    "tags": []
   },
   "outputs": [],
   "source": [
    "def fit(\n",
    "    model,\n",
    "    train_dataset,\n",
    "    val_dataset,\n",
    "    loss_config,\n",
    "    epochs=5,\n",
    "    batch_size=8,\n",
    "    weight_decay=0,\n",
    "    warmup_prop=0.0,\n",
    "    lr=5e-4,\n",
    "):\n",
    "\n",
    "    train_loader = DataLoader(\n",
    "        train_dataset, batch_size=batch_size, num_workers=NUM_WORKERS, shuffle=True,\n",
    "    )\n",
    "    val_loader = DataLoader(\n",
    "        val_dataset, batch_size=batch_size, shuffle=False, num_workers=NUM_WORKERS\n",
    "    )\n",
    "\n",
    "    opt_params = []\n",
    "    no_decay = [\"bias\", \"LayerNorm.bias\", \"LayerNorm.weight\"]\n",
    "    for n, p in model.named_parameters():\n",
    "        wd = 0 if any(nd in n for nd in no_decay) else weight_decay\n",
    "        opt_params.append(\n",
    "            {\"params\": [p], \"weight_decay\": wd, \"lr\": lr}\n",
    "        )\n",
    "\n",
    "    optimizer = AdamW(opt_params, lr=lr, betas=(0.5, 0.999))\n",
    "\n",
    "    n_steps = epochs * len(train_loader)\n",
    "    num_warmup_steps = int(warmup_prop * n_steps)\n",
    "    scheduler = get_linear_schedule_with_warmup(\n",
    "        optimizer, num_warmup_steps, n_steps\n",
    "    )\n",
    "\n",
    "    total_steps = 0\n",
    "    for epoch in range(epochs):\n",
    "        model.train()\n",
    "        start_time = time.time()\n",
    "\n",
    "        optimizer.zero_grad()\n",
    "        avg_loss = 0\n",
    "\n",
    "        for step, data in enumerate(train_loader):\n",
    "            total_steps += 1\n",
    "\n",
    "            ids, token_type_ids = trim_tensors(\n",
    "                data[\"ids\"], data[\"token_type_ids\"], model.name\n",
    "            )\n",
    "\n",
    "            start_logits, end_logits = model(ids.cuda(), token_type_ids.cuda())\n",
    "\n",
    "            loss = qa_loss_fn(\n",
    "                start_logits,\n",
    "                end_logits,\n",
    "                data[\"target_start\"].cuda(),\n",
    "                data[\"target_end\"].cuda(),\n",
    "                config=loss_config,\n",
    "            )\n",
    "\n",
    "            avg_loss += loss.item() / len(train_loader)\n",
    "            loss.backward()\n",
    "\n",
    "            nn.utils.clip_grad_norm_(model.parameters(), 10.0)\n",
    "\n",
    "            optimizer.step()\n",
    "            scheduler.step()\n",
    "            model.zero_grad()\n",
    "\n",
    "        model.eval()\n",
    "        avg_val_loss = 0.\n",
    "        preds, truths = [], []\n",
    "\n",
    "        with torch.no_grad():\n",
    "\n",
    "            for data in val_loader:\n",
    "                ids, token_type_ids = trim_tensors(\n",
    "                    data[\"ids\"], data[\"token_type_ids\"], model.name\n",
    "                )\n",
    "\n",
    "                start_logits, end_logits = model(ids.cuda(), token_type_ids.cuda())\n",
    "\n",
    "                loss = qa_loss_fn(\n",
    "                    start_logits.detach(),\n",
    "                    end_logits.detach(),\n",
    "                    data[\"target_start\"].cuda(),\n",
    "                    data[\"target_end\"].cuda(),\n",
    "                    config=loss_config,\n",
    "                )\n",
    "\n",
    "                avg_val_loss += loss.item() / len(val_loader)\n",
    "\n",
    "                preds += get_pred_from_logits(data, start_logits, end_logits)\n",
    "                truths += data['label']\n",
    "\n",
    "        score = compute_score(truths, preds)\n",
    "\n",
    "        dt = time.time() - start_time\n",
    "        lr = scheduler.get_last_lr()[0]\n",
    "        print(f\"Epoch {epoch + 1}/{epochs} \\t lr={lr:.1e} \\t t={dt:.0f}s \\t\", end=\"\")\n",
    "        print(\n",
    "            f\"loss={avg_loss:.3f} \\t val_loss={avg_val_loss:.3f} \\t val_score={score:.4f}\"\n",
    "        )\n",
    "\n",
    "    del loss, data, avg_val_loss, avg_loss, train_loader, val_loader\n",
    "    torch.cuda.empty_cache()\n",
    "    gc.collect()\n",
    "\n",
    "    return preds\n"
   ]
  },
  {
   "cell_type": "markdown",
   "id": "bacterial-terror",
   "metadata": {
    "papermill": {
     "duration": 0.040122,
     "end_time": "2021-04-10T10:15:52.044792",
     "exception": false,
     "start_time": "2021-04-10T10:15:52.004670",
     "status": "completed"
    },
    "tags": []
   },
   "source": [
    "## $k$-fold"
   ]
  },
  {
   "cell_type": "code",
   "execution_count": 18,
   "id": "rising-netherlands",
   "metadata": {
    "_kg_hide-input": true,
    "execution": {
     "iopub.execute_input": "2021-04-10T10:15:52.123057Z",
     "iopub.status.busy": "2021-04-10T10:15:52.121833Z",
     "iopub.status.idle": "2021-04-10T10:15:52.136607Z",
     "shell.execute_reply": "2021-04-10T10:15:52.137293Z"
    },
    "papermill": {
     "duration": 0.063319,
     "end_time": "2021-04-10T10:15:52.137551",
     "exception": false,
     "start_time": "2021-04-10T10:15:52.074232",
     "status": "completed"
    },
    "tags": []
   },
   "outputs": [],
   "source": [
    "def k_fold(config, df, save=True):\n",
    "    tokenizer, tokens = create_tokenizer_and_tokens(config)\n",
    "    \n",
    "    time = re.sub(' ', '_', str(datetime.datetime.now())[:16])\n",
    "    score = 0\n",
    "    \n",
    "    gkf = GroupKFold(n_splits=config.k)\n",
    "    folds = list(gkf.split(X=df, groups=df['dataset_title']))\n",
    "    \n",
    "    pred_oof = [''] * len(df)\n",
    "    \n",
    "    for fold, (train_idx, val_idx) in enumerate(folds):\n",
    "        if fold in config.selected_folds:\n",
    "            print(f\"\\n-------------   Fold {fold + 1} / {len(folds)}  -------------\\n\")\n",
    "            seed_everything(config.seed + fold)\n",
    "\n",
    "            model = QATransformer(config.selected_model).cuda()\n",
    "            model.zero_grad()\n",
    "\n",
    "            train_dataset = SectionDataset(\n",
    "                df.iloc[train_idx], \n",
    "                tokenizer, \n",
    "                tokens, \n",
    "                max_len=config.max_len, \n",
    "                model_name=config.selected_model\n",
    "            )\n",
    "\n",
    "            val_dataset = SectionDataset(\n",
    "                df.iloc[val_idx], \n",
    "                tokenizer, \n",
    "                tokens,\n",
    "                max_len=config.max_len, \n",
    "                model_name=config.selected_model\n",
    "            )\n",
    "\n",
    "            n_parameters = count_parameters(model)\n",
    "\n",
    "            print(f\"    -> {len(train_dataset)} training texts\")\n",
    "            print(f\"    -> {len(val_dataset)} validation texts\")\n",
    "            print(f\"    -> {n_parameters} trainable parameters\\n\")  \n",
    "\n",
    "            preds = fit(\n",
    "                model, \n",
    "                train_dataset, \n",
    "                val_dataset, \n",
    "                config.loss_config,\n",
    "                epochs=config.epochs, \n",
    "                batch_size=config.batch_size, \n",
    "                weight_decay=config.weight_decay, \n",
    "                lr=config.lr, \n",
    "                warmup_prop=config.warmup_prop,\n",
    "            )\n",
    "\n",
    "            for i, idx in enumerate(val_idx):\n",
    "                pred_oof[idx] = preds[i]\n",
    "\n",
    "            if save:\n",
    "                save_model_weights(model, f'{config.selected_model}_{fold + 1}.pt', cp_folder=\"\")\n",
    "\n",
    "            del model, train_dataset, val_dataset\n",
    "            torch.cuda.empty_cache()\n",
    "            gc.collect()"
   ]
  },
  {
   "cell_type": "markdown",
   "id": "floating-baseball",
   "metadata": {
    "papermill": {
     "duration": 0.045642,
     "end_time": "2021-04-10T10:15:52.228676",
     "exception": false,
     "start_time": "2021-04-10T10:15:52.183034",
     "status": "completed"
    },
    "tags": []
   },
   "source": [
    "## Main"
   ]
  },
  {
   "cell_type": "code",
   "execution_count": 19,
   "id": "corresponding-finnish",
   "metadata": {
    "execution": {
     "iopub.execute_input": "2021-04-10T10:15:52.330512Z",
     "iopub.status.busy": "2021-04-10T10:15:52.328777Z",
     "iopub.status.idle": "2021-04-10T10:15:52.334033Z",
     "shell.execute_reply": "2021-04-10T10:15:52.334763Z"
    },
    "papermill": {
     "duration": 0.060202,
     "end_time": "2021-04-10T10:15:52.334990",
     "exception": false,
     "start_time": "2021-04-10T10:15:52.274788",
     "status": "completed"
    },
    "tags": []
   },
   "outputs": [],
   "source": [
    "class Config:\n",
    "    # General\n",
    "    k = 5\n",
    "    seed = 2021\n",
    "    selected_folds = [0]\n",
    "\n",
    "    # Texts\n",
    "    max_len = 256\n",
    "    \n",
    "    # Architecture\n",
    "    selected_model = \"bert-base-uncased\"\n",
    "    lowercase = True\n",
    "    \n",
    "    # Loss function\n",
    "    loss_config = {\n",
    "        \"smoothing\": False,\n",
    "        \"eps\": 0.1,\n",
    "    }\n",
    "    \n",
    "    # Training\n",
    "    batch_size = 16\n",
    "    batch_size_val = batch_size * 2\n",
    "    weight_decay = 1.\n",
    "    \n",
    "    epochs = 1\n",
    "    lr = 5e-5\n",
    "    warmup_prop = 0.1"
   ]
  },
  {
   "cell_type": "code",
   "execution_count": 20,
   "id": "satisfied-uganda",
   "metadata": {
    "execution": {
     "iopub.execute_input": "2021-04-10T10:15:52.603994Z",
     "iopub.status.busy": "2021-04-10T10:15:52.603089Z",
     "iopub.status.idle": "2021-04-10T10:28:53.078353Z",
     "shell.execute_reply": "2021-04-10T10:28:53.077361Z"
    },
    "papermill": {
     "duration": 780.512623,
     "end_time": "2021-04-10T10:28:53.078632",
     "exception": false,
     "start_time": "2021-04-10T10:15:52.566009",
     "status": "completed"
    },
    "tags": []
   },
   "outputs": [
    {
     "name": "stdout",
     "output_type": "stream",
     "text": [
      "\n",
      "-------------   Fold 1 / 5  -------------\n",
      "\n"
     ]
    },
    {
     "data": {
      "application/vnd.jupyter.widget-view+json": {
       "model_id": "1aafa12b0a6f475994237308194e9153",
       "version_major": 2,
       "version_minor": 0
      },
      "text/plain": [
       "Downloading:   0%|          | 0.00/433 [00:00<?, ?B/s]"
      ]
     },
     "metadata": {},
     "output_type": "display_data"
    },
    {
     "data": {
      "application/vnd.jupyter.widget-view+json": {
       "model_id": "a87c08823fc14456bc91e9edcff15dce",
       "version_major": 2,
       "version_minor": 0
      },
      "text/plain": [
       "Downloading:   0%|          | 0.00/440M [00:00<?, ?B/s]"
      ]
     },
     "metadata": {},
     "output_type": "display_data"
    },
    {
     "name": "stdout",
     "output_type": "stream",
     "text": [
      "    -> 20122 training texts\n",
      "    -> 15846 validation texts\n",
      "    -> 110074370 trainable parameters\n",
      "\n",
      "Epoch 1/1 \t lr=0.0e+00 \t t=747s \tloss=0.810 \t val_loss=6.782 \t val_score=0.3303\n",
      "\n",
      " -> Saving weights to bert-base-uncased_1.pt\n",
      "\n"
     ]
    }
   ],
   "source": [
    "df = pd.read_csv(\"df_train.csv\")\n",
    "\n",
    "k_fold(\n",
    "    Config,\n",
    "    df,\n",
    "    save=True,\n",
    ")"
   ]
  },
  {
   "cell_type": "markdown",
   "id": "favorite-recipe",
   "metadata": {
    "papermill": {
     "duration": 0.03418,
     "end_time": "2021-04-10T10:28:53.148487",
     "exception": false,
     "start_time": "2021-04-10T10:28:53.114307",
     "status": "completed"
    },
    "tags": []
   },
   "source": [
    "Thanks for reading !\n",
    "\n",
    "Hopefully this work comes helpful in beating the public LB baselines...\n",
    "\n",
    "Don't forget to upvote :)\n"
   ]
  }
 ],
 "metadata": {
  "kernelspec": {
   "display_name": "Python 3",
   "language": "python",
   "name": "python3"
  },
  "language_info": {
   "codemirror_mode": {
    "name": "ipython",
    "version": 3
   },
   "file_extension": ".py",
   "mimetype": "text/x-python",
   "name": "python",
   "nbconvert_exporter": "python",
   "pygments_lexer": "ipython3",
   "version": "3.7.9"
  },
  "papermill": {
   "default_parameters": {},
   "duration": 1797.158261,
   "end_time": "2021-04-10T10:28:56.911945",
   "environment_variables": {},
   "exception": null,
   "input_path": "__notebook__.ipynb",
   "output_path": "__notebook__.ipynb",
   "parameters": {},
   "start_time": "2021-04-10T09:58:59.753684",
   "version": "2.3.2"
  },
  "widgets": {
   "application/vnd.jupyter.widget-state+json": {
    "state": {
     "03cd52bad64249f89d19fe60dbdafe66": {
      "model_module": "@jupyter-widgets/controls",
      "model_module_version": "1.5.0",
      "model_name": "HTMLModel",
      "state": {
       "_dom_classes": [],
       "_model_module": "@jupyter-widgets/controls",
       "_model_module_version": "1.5.0",
       "_model_name": "HTMLModel",
       "_view_count": null,
       "_view_module": "@jupyter-widgets/controls",
       "_view_module_version": "1.5.0",
       "_view_name": "HTMLView",
       "description": "",
       "description_tooltip": null,
       "layout": "IPY_MODEL_6be180ac12d64f6f969602af781e0812",
       "placeholder": "​",
       "style": "IPY_MODEL_45f3c94f05e74263a450c85249bb1aa9",
       "value": " 19661/19661 [13:09&lt;00:00, 38.94it/s]"
      }
     },
     "053215e221474dd394aa282b9a65d02a": {
      "model_module": "@jupyter-widgets/controls",
      "model_module_version": "1.5.0",
      "model_name": "ProgressStyleModel",
      "state": {
       "_model_module": "@jupyter-widgets/controls",
       "_model_module_version": "1.5.0",
       "_model_name": "ProgressStyleModel",
       "_view_count": null,
       "_view_module": "@jupyter-widgets/base",
       "_view_module_version": "1.2.0",
       "_view_name": "StyleView",
       "bar_color": null,
       "description_width": ""
      }
     },
     "1aafa12b0a6f475994237308194e9153": {
      "model_module": "@jupyter-widgets/controls",
      "model_module_version": "1.5.0",
      "model_name": "HBoxModel",
      "state": {
       "_dom_classes": [],
       "_model_module": "@jupyter-widgets/controls",
       "_model_module_version": "1.5.0",
       "_model_name": "HBoxModel",
       "_view_count": null,
       "_view_module": "@jupyter-widgets/controls",
       "_view_module_version": "1.5.0",
       "_view_name": "HBoxView",
       "box_style": "",
       "children": [
        "IPY_MODEL_b34ab981f4fc4aeeb57cb934eacaa68e",
        "IPY_MODEL_b32bdef2e0184ed48e9db430d2bca5ef",
        "IPY_MODEL_7366ea3a5ae54e8c896d04d7411d62e7"
       ],
       "layout": "IPY_MODEL_f37e2b4d7730441c9c3793418f586bcb"
      }
     },
     "1cecd19199e742b585fe85e0ae4e66ad": {
      "model_module": "@jupyter-widgets/controls",
      "model_module_version": "1.5.0",
      "model_name": "HTMLModel",
      "state": {
       "_dom_classes": [],
       "_model_module": "@jupyter-widgets/controls",
       "_model_module_version": "1.5.0",
       "_model_name": "HTMLModel",
       "_view_count": null,
       "_view_module": "@jupyter-widgets/controls",
       "_view_module_version": "1.5.0",
       "_view_name": "HTMLView",
       "description": "",
       "description_tooltip": null,
       "layout": "IPY_MODEL_642430f45f0643da990732a1599eb4f4",
       "placeholder": "​",
       "style": "IPY_MODEL_76b509c737bb4908a2d61045c0348978",
       "value": " 440M/440M [00:16&lt;00:00, 30.8MB/s]"
      }
     },
     "25ff46eff2dd4787ba6307706d08b81d": {
      "model_module": "@jupyter-widgets/controls",
      "model_module_version": "1.5.0",
      "model_name": "HBoxModel",
      "state": {
       "_dom_classes": [],
       "_model_module": "@jupyter-widgets/controls",
       "_model_module_version": "1.5.0",
       "_model_name": "HBoxModel",
       "_view_count": null,
       "_view_module": "@jupyter-widgets/controls",
       "_view_module_version": "1.5.0",
       "_view_name": "HBoxView",
       "box_style": "",
       "children": [
        "IPY_MODEL_cb9cd9fd516345bfa2c39d14845bf8ad",
        "IPY_MODEL_44302e9c136f472f87244a37e99ec0ba",
        "IPY_MODEL_03cd52bad64249f89d19fe60dbdafe66"
       ],
       "layout": "IPY_MODEL_fc660dc5d04b4b42bb07036cf11262d0"
      }
     },
     "2ea0e97d7b374e9785a112bd7d5eaa6c": {
      "model_module": "@jupyter-widgets/controls",
      "model_module_version": "1.5.0",
      "model_name": "DescriptionStyleModel",
      "state": {
       "_model_module": "@jupyter-widgets/controls",
       "_model_module_version": "1.5.0",
       "_model_name": "DescriptionStyleModel",
       "_view_count": null,
       "_view_module": "@jupyter-widgets/base",
       "_view_module_version": "1.2.0",
       "_view_name": "StyleView",
       "description_width": ""
      }
     },
     "320da02343754e6d81a6caf4c8120712": {
      "model_module": "@jupyter-widgets/base",
      "model_module_version": "1.2.0",
      "model_name": "LayoutModel",
      "state": {
       "_model_module": "@jupyter-widgets/base",
       "_model_module_version": "1.2.0",
       "_model_name": "LayoutModel",
       "_view_count": null,
       "_view_module": "@jupyter-widgets/base",
       "_view_module_version": "1.2.0",
       "_view_name": "LayoutView",
       "align_content": null,
       "align_items": null,
       "align_self": null,
       "border": null,
       "bottom": null,
       "display": null,
       "flex": null,
       "flex_flow": null,
       "grid_area": null,
       "grid_auto_columns": null,
       "grid_auto_flow": null,
       "grid_auto_rows": null,
       "grid_column": null,
       "grid_gap": null,
       "grid_row": null,
       "grid_template_areas": null,
       "grid_template_columns": null,
       "grid_template_rows": null,
       "height": null,
       "justify_content": null,
       "justify_items": null,
       "left": null,
       "margin": null,
       "max_height": null,
       "max_width": null,
       "min_height": null,
       "min_width": null,
       "object_fit": null,
       "object_position": null,
       "order": null,
       "overflow": null,
       "overflow_x": null,
       "overflow_y": null,
       "padding": null,
       "right": null,
       "top": null,
       "visibility": null,
       "width": null
      }
     },
     "3280c4739d6146e3ade227c4f6137d8a": {
      "model_module": "@jupyter-widgets/controls",
      "model_module_version": "1.5.0",
      "model_name": "DescriptionStyleModel",
      "state": {
       "_model_module": "@jupyter-widgets/controls",
       "_model_module_version": "1.5.0",
       "_model_name": "DescriptionStyleModel",
       "_view_count": null,
       "_view_module": "@jupyter-widgets/base",
       "_view_module_version": "1.2.0",
       "_view_name": "StyleView",
       "description_width": ""
      }
     },
     "36f4e2944d544ff2b2a8a355a39b9788": {
      "model_module": "@jupyter-widgets/base",
      "model_module_version": "1.2.0",
      "model_name": "LayoutModel",
      "state": {
       "_model_module": "@jupyter-widgets/base",
       "_model_module_version": "1.2.0",
       "_model_name": "LayoutModel",
       "_view_count": null,
       "_view_module": "@jupyter-widgets/base",
       "_view_module_version": "1.2.0",
       "_view_name": "LayoutView",
       "align_content": null,
       "align_items": null,
       "align_self": null,
       "border": null,
       "bottom": null,
       "display": null,
       "flex": null,
       "flex_flow": null,
       "grid_area": null,
       "grid_auto_columns": null,
       "grid_auto_flow": null,
       "grid_auto_rows": null,
       "grid_column": null,
       "grid_gap": null,
       "grid_row": null,
       "grid_template_areas": null,
       "grid_template_columns": null,
       "grid_template_rows": null,
       "height": null,
       "justify_content": null,
       "justify_items": null,
       "left": null,
       "margin": null,
       "max_height": null,
       "max_width": null,
       "min_height": null,
       "min_width": null,
       "object_fit": null,
       "object_position": null,
       "order": null,
       "overflow": null,
       "overflow_x": null,
       "overflow_y": null,
       "padding": null,
       "right": null,
       "top": null,
       "visibility": null,
       "width": null
      }
     },
     "3ca8730719d74d2baab19c12dc158684": {
      "model_module": "@jupyter-widgets/controls",
      "model_module_version": "1.5.0",
      "model_name": "ProgressStyleModel",
      "state": {
       "_model_module": "@jupyter-widgets/controls",
       "_model_module_version": "1.5.0",
       "_model_name": "ProgressStyleModel",
       "_view_count": null,
       "_view_module": "@jupyter-widgets/base",
       "_view_module_version": "1.2.0",
       "_view_name": "StyleView",
       "bar_color": null,
       "description_width": ""
      }
     },
     "44302e9c136f472f87244a37e99ec0ba": {
      "model_module": "@jupyter-widgets/controls",
      "model_module_version": "1.5.0",
      "model_name": "FloatProgressModel",
      "state": {
       "_dom_classes": [],
       "_model_module": "@jupyter-widgets/controls",
       "_model_module_version": "1.5.0",
       "_model_name": "FloatProgressModel",
       "_view_count": null,
       "_view_module": "@jupyter-widgets/controls",
       "_view_module_version": "1.5.0",
       "_view_name": "ProgressView",
       "bar_style": "success",
       "description": "",
       "description_tooltip": null,
       "layout": "IPY_MODEL_5653b832eb814b18a59d086d0bf7a105",
       "max": 19661.0,
       "min": 0.0,
       "orientation": "horizontal",
       "style": "IPY_MODEL_3ca8730719d74d2baab19c12dc158684",
       "value": 19661.0
      }
     },
     "45f3c94f05e74263a450c85249bb1aa9": {
      "model_module": "@jupyter-widgets/controls",
      "model_module_version": "1.5.0",
      "model_name": "DescriptionStyleModel",
      "state": {
       "_model_module": "@jupyter-widgets/controls",
       "_model_module_version": "1.5.0",
       "_model_name": "DescriptionStyleModel",
       "_view_count": null,
       "_view_module": "@jupyter-widgets/base",
       "_view_module_version": "1.2.0",
       "_view_name": "StyleView",
       "description_width": ""
      }
     },
     "5653b832eb814b18a59d086d0bf7a105": {
      "model_module": "@jupyter-widgets/base",
      "model_module_version": "1.2.0",
      "model_name": "LayoutModel",
      "state": {
       "_model_module": "@jupyter-widgets/base",
       "_model_module_version": "1.2.0",
       "_model_name": "LayoutModel",
       "_view_count": null,
       "_view_module": "@jupyter-widgets/base",
       "_view_module_version": "1.2.0",
       "_view_name": "LayoutView",
       "align_content": null,
       "align_items": null,
       "align_self": null,
       "border": null,
       "bottom": null,
       "display": null,
       "flex": null,
       "flex_flow": null,
       "grid_area": null,
       "grid_auto_columns": null,
       "grid_auto_flow": null,
       "grid_auto_rows": null,
       "grid_column": null,
       "grid_gap": null,
       "grid_row": null,
       "grid_template_areas": null,
       "grid_template_columns": null,
       "grid_template_rows": null,
       "height": null,
       "justify_content": null,
       "justify_items": null,
       "left": null,
       "margin": null,
       "max_height": null,
       "max_width": null,
       "min_height": null,
       "min_width": null,
       "object_fit": null,
       "object_position": null,
       "order": null,
       "overflow": null,
       "overflow_x": null,
       "overflow_y": null,
       "padding": null,
       "right": null,
       "top": null,
       "visibility": null,
       "width": null
      }
     },
     "642430f45f0643da990732a1599eb4f4": {
      "model_module": "@jupyter-widgets/base",
      "model_module_version": "1.2.0",
      "model_name": "LayoutModel",
      "state": {
       "_model_module": "@jupyter-widgets/base",
       "_model_module_version": "1.2.0",
       "_model_name": "LayoutModel",
       "_view_count": null,
       "_view_module": "@jupyter-widgets/base",
       "_view_module_version": "1.2.0",
       "_view_name": "LayoutView",
       "align_content": null,
       "align_items": null,
       "align_self": null,
       "border": null,
       "bottom": null,
       "display": null,
       "flex": null,
       "flex_flow": null,
       "grid_area": null,
       "grid_auto_columns": null,
       "grid_auto_flow": null,
       "grid_auto_rows": null,
       "grid_column": null,
       "grid_gap": null,
       "grid_row": null,
       "grid_template_areas": null,
       "grid_template_columns": null,
       "grid_template_rows": null,
       "height": null,
       "justify_content": null,
       "justify_items": null,
       "left": null,
       "margin": null,
       "max_height": null,
       "max_width": null,
       "min_height": null,
       "min_width": null,
       "object_fit": null,
       "object_position": null,
       "order": null,
       "overflow": null,
       "overflow_x": null,
       "overflow_y": null,
       "padding": null,
       "right": null,
       "top": null,
       "visibility": null,
       "width": null
      }
     },
     "691d98dcd9f9419fa5aa1583fcace60a": {
      "model_module": "@jupyter-widgets/controls",
      "model_module_version": "1.5.0",
      "model_name": "HTMLModel",
      "state": {
       "_dom_classes": [],
       "_model_module": "@jupyter-widgets/controls",
       "_model_module_version": "1.5.0",
       "_model_name": "HTMLModel",
       "_view_count": null,
       "_view_module": "@jupyter-widgets/controls",
       "_view_module_version": "1.5.0",
       "_view_name": "HTMLView",
       "description": "",
       "description_tooltip": null,
       "layout": "IPY_MODEL_36f4e2944d544ff2b2a8a355a39b9788",
       "placeholder": "​",
       "style": "IPY_MODEL_d262ee993849401fbfb7285c9c682c1c",
       "value": "Downloading: 100%"
      }
     },
     "6be180ac12d64f6f969602af781e0812": {
      "model_module": "@jupyter-widgets/base",
      "model_module_version": "1.2.0",
      "model_name": "LayoutModel",
      "state": {
       "_model_module": "@jupyter-widgets/base",
       "_model_module_version": "1.2.0",
       "_model_name": "LayoutModel",
       "_view_count": null,
       "_view_module": "@jupyter-widgets/base",
       "_view_module_version": "1.2.0",
       "_view_name": "LayoutView",
       "align_content": null,
       "align_items": null,
       "align_self": null,
       "border": null,
       "bottom": null,
       "display": null,
       "flex": null,
       "flex_flow": null,
       "grid_area": null,
       "grid_auto_columns": null,
       "grid_auto_flow": null,
       "grid_auto_rows": null,
       "grid_column": null,
       "grid_gap": null,
       "grid_row": null,
       "grid_template_areas": null,
       "grid_template_columns": null,
       "grid_template_rows": null,
       "height": null,
       "justify_content": null,
       "justify_items": null,
       "left": null,
       "margin": null,
       "max_height": null,
       "max_width": null,
       "min_height": null,
       "min_width": null,
       "object_fit": null,
       "object_position": null,
       "order": null,
       "overflow": null,
       "overflow_x": null,
       "overflow_y": null,
       "padding": null,
       "right": null,
       "top": null,
       "visibility": null,
       "width": null
      }
     },
     "7366ea3a5ae54e8c896d04d7411d62e7": {
      "model_module": "@jupyter-widgets/controls",
      "model_module_version": "1.5.0",
      "model_name": "HTMLModel",
      "state": {
       "_dom_classes": [],
       "_model_module": "@jupyter-widgets/controls",
       "_model_module_version": "1.5.0",
       "_model_name": "HTMLModel",
       "_view_count": null,
       "_view_module": "@jupyter-widgets/controls",
       "_view_module_version": "1.5.0",
       "_view_name": "HTMLView",
       "description": "",
       "description_tooltip": null,
       "layout": "IPY_MODEL_92b5bf97991848fa9234e2834a39a9e4",
       "placeholder": "​",
       "style": "IPY_MODEL_2ea0e97d7b374e9785a112bd7d5eaa6c",
       "value": " 433/433 [00:00&lt;00:00, 11.3kB/s]"
      }
     },
     "76b509c737bb4908a2d61045c0348978": {
      "model_module": "@jupyter-widgets/controls",
      "model_module_version": "1.5.0",
      "model_name": "DescriptionStyleModel",
      "state": {
       "_model_module": "@jupyter-widgets/controls",
       "_model_module_version": "1.5.0",
       "_model_name": "DescriptionStyleModel",
       "_view_count": null,
       "_view_module": "@jupyter-widgets/base",
       "_view_module_version": "1.2.0",
       "_view_name": "StyleView",
       "description_width": ""
      }
     },
     "7c1aa2ec2fcd434fbaa1dc693bf68809": {
      "model_module": "@jupyter-widgets/controls",
      "model_module_version": "1.5.0",
      "model_name": "DescriptionStyleModel",
      "state": {
       "_model_module": "@jupyter-widgets/controls",
       "_model_module_version": "1.5.0",
       "_model_name": "DescriptionStyleModel",
       "_view_count": null,
       "_view_module": "@jupyter-widgets/base",
       "_view_module_version": "1.2.0",
       "_view_name": "StyleView",
       "description_width": ""
      }
     },
     "92b5bf97991848fa9234e2834a39a9e4": {
      "model_module": "@jupyter-widgets/base",
      "model_module_version": "1.2.0",
      "model_name": "LayoutModel",
      "state": {
       "_model_module": "@jupyter-widgets/base",
       "_model_module_version": "1.2.0",
       "_model_name": "LayoutModel",
       "_view_count": null,
       "_view_module": "@jupyter-widgets/base",
       "_view_module_version": "1.2.0",
       "_view_name": "LayoutView",
       "align_content": null,
       "align_items": null,
       "align_self": null,
       "border": null,
       "bottom": null,
       "display": null,
       "flex": null,
       "flex_flow": null,
       "grid_area": null,
       "grid_auto_columns": null,
       "grid_auto_flow": null,
       "grid_auto_rows": null,
       "grid_column": null,
       "grid_gap": null,
       "grid_row": null,
       "grid_template_areas": null,
       "grid_template_columns": null,
       "grid_template_rows": null,
       "height": null,
       "justify_content": null,
       "justify_items": null,
       "left": null,
       "margin": null,
       "max_height": null,
       "max_width": null,
       "min_height": null,
       "min_width": null,
       "object_fit": null,
       "object_position": null,
       "order": null,
       "overflow": null,
       "overflow_x": null,
       "overflow_y": null,
       "padding": null,
       "right": null,
       "top": null,
       "visibility": null,
       "width": null
      }
     },
     "a87c08823fc14456bc91e9edcff15dce": {
      "model_module": "@jupyter-widgets/controls",
      "model_module_version": "1.5.0",
      "model_name": "HBoxModel",
      "state": {
       "_dom_classes": [],
       "_model_module": "@jupyter-widgets/controls",
       "_model_module_version": "1.5.0",
       "_model_name": "HBoxModel",
       "_view_count": null,
       "_view_module": "@jupyter-widgets/controls",
       "_view_module_version": "1.5.0",
       "_view_name": "HBoxView",
       "box_style": "",
       "children": [
        "IPY_MODEL_691d98dcd9f9419fa5aa1583fcace60a",
        "IPY_MODEL_d795c2921b484831b10f82de1b80e54f",
        "IPY_MODEL_1cecd19199e742b585fe85e0ae4e66ad"
       ],
       "layout": "IPY_MODEL_cb2b40719d3b4b3a9362179c458acdcf"
      }
     },
     "b32bdef2e0184ed48e9db430d2bca5ef": {
      "model_module": "@jupyter-widgets/controls",
      "model_module_version": "1.5.0",
      "model_name": "FloatProgressModel",
      "state": {
       "_dom_classes": [],
       "_model_module": "@jupyter-widgets/controls",
       "_model_module_version": "1.5.0",
       "_model_name": "FloatProgressModel",
       "_view_count": null,
       "_view_module": "@jupyter-widgets/controls",
       "_view_module_version": "1.5.0",
       "_view_name": "ProgressView",
       "bar_style": "success",
       "description": "",
       "description_tooltip": null,
       "layout": "IPY_MODEL_c31e2d5938da4d1b964caa143ec6ef09",
       "max": 433.0,
       "min": 0.0,
       "orientation": "horizontal",
       "style": "IPY_MODEL_e56d900920dc4eaab71e268bb2d375df",
       "value": 433.0
      }
     },
     "b34ab981f4fc4aeeb57cb934eacaa68e": {
      "model_module": "@jupyter-widgets/controls",
      "model_module_version": "1.5.0",
      "model_name": "HTMLModel",
      "state": {
       "_dom_classes": [],
       "_model_module": "@jupyter-widgets/controls",
       "_model_module_version": "1.5.0",
       "_model_name": "HTMLModel",
       "_view_count": null,
       "_view_module": "@jupyter-widgets/controls",
       "_view_module_version": "1.5.0",
       "_view_name": "HTMLView",
       "description": "",
       "description_tooltip": null,
       "layout": "IPY_MODEL_320da02343754e6d81a6caf4c8120712",
       "placeholder": "​",
       "style": "IPY_MODEL_7c1aa2ec2fcd434fbaa1dc693bf68809",
       "value": "Downloading: 100%"
      }
     },
     "c31e2d5938da4d1b964caa143ec6ef09": {
      "model_module": "@jupyter-widgets/base",
      "model_module_version": "1.2.0",
      "model_name": "LayoutModel",
      "state": {
       "_model_module": "@jupyter-widgets/base",
       "_model_module_version": "1.2.0",
       "_model_name": "LayoutModel",
       "_view_count": null,
       "_view_module": "@jupyter-widgets/base",
       "_view_module_version": "1.2.0",
       "_view_name": "LayoutView",
       "align_content": null,
       "align_items": null,
       "align_self": null,
       "border": null,
       "bottom": null,
       "display": null,
       "flex": null,
       "flex_flow": null,
       "grid_area": null,
       "grid_auto_columns": null,
       "grid_auto_flow": null,
       "grid_auto_rows": null,
       "grid_column": null,
       "grid_gap": null,
       "grid_row": null,
       "grid_template_areas": null,
       "grid_template_columns": null,
       "grid_template_rows": null,
       "height": null,
       "justify_content": null,
       "justify_items": null,
       "left": null,
       "margin": null,
       "max_height": null,
       "max_width": null,
       "min_height": null,
       "min_width": null,
       "object_fit": null,
       "object_position": null,
       "order": null,
       "overflow": null,
       "overflow_x": null,
       "overflow_y": null,
       "padding": null,
       "right": null,
       "top": null,
       "visibility": null,
       "width": null
      }
     },
     "c986ae39ad1a4cf59f5ef8ba58217de3": {
      "model_module": "@jupyter-widgets/base",
      "model_module_version": "1.2.0",
      "model_name": "LayoutModel",
      "state": {
       "_model_module": "@jupyter-widgets/base",
       "_model_module_version": "1.2.0",
       "_model_name": "LayoutModel",
       "_view_count": null,
       "_view_module": "@jupyter-widgets/base",
       "_view_module_version": "1.2.0",
       "_view_name": "LayoutView",
       "align_content": null,
       "align_items": null,
       "align_self": null,
       "border": null,
       "bottom": null,
       "display": null,
       "flex": null,
       "flex_flow": null,
       "grid_area": null,
       "grid_auto_columns": null,
       "grid_auto_flow": null,
       "grid_auto_rows": null,
       "grid_column": null,
       "grid_gap": null,
       "grid_row": null,
       "grid_template_areas": null,
       "grid_template_columns": null,
       "grid_template_rows": null,
       "height": null,
       "justify_content": null,
       "justify_items": null,
       "left": null,
       "margin": null,
       "max_height": null,
       "max_width": null,
       "min_height": null,
       "min_width": null,
       "object_fit": null,
       "object_position": null,
       "order": null,
       "overflow": null,
       "overflow_x": null,
       "overflow_y": null,
       "padding": null,
       "right": null,
       "top": null,
       "visibility": null,
       "width": null
      }
     },
     "cb2b40719d3b4b3a9362179c458acdcf": {
      "model_module": "@jupyter-widgets/base",
      "model_module_version": "1.2.0",
      "model_name": "LayoutModel",
      "state": {
       "_model_module": "@jupyter-widgets/base",
       "_model_module_version": "1.2.0",
       "_model_name": "LayoutModel",
       "_view_count": null,
       "_view_module": "@jupyter-widgets/base",
       "_view_module_version": "1.2.0",
       "_view_name": "LayoutView",
       "align_content": null,
       "align_items": null,
       "align_self": null,
       "border": null,
       "bottom": null,
       "display": null,
       "flex": null,
       "flex_flow": null,
       "grid_area": null,
       "grid_auto_columns": null,
       "grid_auto_flow": null,
       "grid_auto_rows": null,
       "grid_column": null,
       "grid_gap": null,
       "grid_row": null,
       "grid_template_areas": null,
       "grid_template_columns": null,
       "grid_template_rows": null,
       "height": null,
       "justify_content": null,
       "justify_items": null,
       "left": null,
       "margin": null,
       "max_height": null,
       "max_width": null,
       "min_height": null,
       "min_width": null,
       "object_fit": null,
       "object_position": null,
       "order": null,
       "overflow": null,
       "overflow_x": null,
       "overflow_y": null,
       "padding": null,
       "right": null,
       "top": null,
       "visibility": null,
       "width": null
      }
     },
     "cb9cd9fd516345bfa2c39d14845bf8ad": {
      "model_module": "@jupyter-widgets/controls",
      "model_module_version": "1.5.0",
      "model_name": "HTMLModel",
      "state": {
       "_dom_classes": [],
       "_model_module": "@jupyter-widgets/controls",
       "_model_module_version": "1.5.0",
       "_model_name": "HTMLModel",
       "_view_count": null,
       "_view_module": "@jupyter-widgets/controls",
       "_view_module_version": "1.5.0",
       "_view_name": "HTMLView",
       "description": "",
       "description_tooltip": null,
       "layout": "IPY_MODEL_c986ae39ad1a4cf59f5ef8ba58217de3",
       "placeholder": "​",
       "style": "IPY_MODEL_3280c4739d6146e3ade227c4f6137d8a",
       "value": "100%"
      }
     },
     "cc05a6eb81644727a1255485b4841c31": {
      "model_module": "@jupyter-widgets/base",
      "model_module_version": "1.2.0",
      "model_name": "LayoutModel",
      "state": {
       "_model_module": "@jupyter-widgets/base",
       "_model_module_version": "1.2.0",
       "_model_name": "LayoutModel",
       "_view_count": null,
       "_view_module": "@jupyter-widgets/base",
       "_view_module_version": "1.2.0",
       "_view_name": "LayoutView",
       "align_content": null,
       "align_items": null,
       "align_self": null,
       "border": null,
       "bottom": null,
       "display": null,
       "flex": null,
       "flex_flow": null,
       "grid_area": null,
       "grid_auto_columns": null,
       "grid_auto_flow": null,
       "grid_auto_rows": null,
       "grid_column": null,
       "grid_gap": null,
       "grid_row": null,
       "grid_template_areas": null,
       "grid_template_columns": null,
       "grid_template_rows": null,
       "height": null,
       "justify_content": null,
       "justify_items": null,
       "left": null,
       "margin": null,
       "max_height": null,
       "max_width": null,
       "min_height": null,
       "min_width": null,
       "object_fit": null,
       "object_position": null,
       "order": null,
       "overflow": null,
       "overflow_x": null,
       "overflow_y": null,
       "padding": null,
       "right": null,
       "top": null,
       "visibility": null,
       "width": null
      }
     },
     "d262ee993849401fbfb7285c9c682c1c": {
      "model_module": "@jupyter-widgets/controls",
      "model_module_version": "1.5.0",
      "model_name": "DescriptionStyleModel",
      "state": {
       "_model_module": "@jupyter-widgets/controls",
       "_model_module_version": "1.5.0",
       "_model_name": "DescriptionStyleModel",
       "_view_count": null,
       "_view_module": "@jupyter-widgets/base",
       "_view_module_version": "1.2.0",
       "_view_name": "StyleView",
       "description_width": ""
      }
     },
     "d795c2921b484831b10f82de1b80e54f": {
      "model_module": "@jupyter-widgets/controls",
      "model_module_version": "1.5.0",
      "model_name": "FloatProgressModel",
      "state": {
       "_dom_classes": [],
       "_model_module": "@jupyter-widgets/controls",
       "_model_module_version": "1.5.0",
       "_model_name": "FloatProgressModel",
       "_view_count": null,
       "_view_module": "@jupyter-widgets/controls",
       "_view_module_version": "1.5.0",
       "_view_name": "ProgressView",
       "bar_style": "success",
       "description": "",
       "description_tooltip": null,
       "layout": "IPY_MODEL_cc05a6eb81644727a1255485b4841c31",
       "max": 440473133.0,
       "min": 0.0,
       "orientation": "horizontal",
       "style": "IPY_MODEL_053215e221474dd394aa282b9a65d02a",
       "value": 440473133.0
      }
     },
     "e56d900920dc4eaab71e268bb2d375df": {
      "model_module": "@jupyter-widgets/controls",
      "model_module_version": "1.5.0",
      "model_name": "ProgressStyleModel",
      "state": {
       "_model_module": "@jupyter-widgets/controls",
       "_model_module_version": "1.5.0",
       "_model_name": "ProgressStyleModel",
       "_view_count": null,
       "_view_module": "@jupyter-widgets/base",
       "_view_module_version": "1.2.0",
       "_view_name": "StyleView",
       "bar_color": null,
       "description_width": ""
      }
     },
     "f37e2b4d7730441c9c3793418f586bcb": {
      "model_module": "@jupyter-widgets/base",
      "model_module_version": "1.2.0",
      "model_name": "LayoutModel",
      "state": {
       "_model_module": "@jupyter-widgets/base",
       "_model_module_version": "1.2.0",
       "_model_name": "LayoutModel",
       "_view_count": null,
       "_view_module": "@jupyter-widgets/base",
       "_view_module_version": "1.2.0",
       "_view_name": "LayoutView",
       "align_content": null,
       "align_items": null,
       "align_self": null,
       "border": null,
       "bottom": null,
       "display": null,
       "flex": null,
       "flex_flow": null,
       "grid_area": null,
       "grid_auto_columns": null,
       "grid_auto_flow": null,
       "grid_auto_rows": null,
       "grid_column": null,
       "grid_gap": null,
       "grid_row": null,
       "grid_template_areas": null,
       "grid_template_columns": null,
       "grid_template_rows": null,
       "height": null,
       "justify_content": null,
       "justify_items": null,
       "left": null,
       "margin": null,
       "max_height": null,
       "max_width": null,
       "min_height": null,
       "min_width": null,
       "object_fit": null,
       "object_position": null,
       "order": null,
       "overflow": null,
       "overflow_x": null,
       "overflow_y": null,
       "padding": null,
       "right": null,
       "top": null,
       "visibility": null,
       "width": null
      }
     },
     "fc660dc5d04b4b42bb07036cf11262d0": {
      "model_module": "@jupyter-widgets/base",
      "model_module_version": "1.2.0",
      "model_name": "LayoutModel",
      "state": {
       "_model_module": "@jupyter-widgets/base",
       "_model_module_version": "1.2.0",
       "_model_name": "LayoutModel",
       "_view_count": null,
       "_view_module": "@jupyter-widgets/base",
       "_view_module_version": "1.2.0",
       "_view_name": "LayoutView",
       "align_content": null,
       "align_items": null,
       "align_self": null,
       "border": null,
       "bottom": null,
       "display": null,
       "flex": null,
       "flex_flow": null,
       "grid_area": null,
       "grid_auto_columns": null,
       "grid_auto_flow": null,
       "grid_auto_rows": null,
       "grid_column": null,
       "grid_gap": null,
       "grid_row": null,
       "grid_template_areas": null,
       "grid_template_columns": null,
       "grid_template_rows": null,
       "height": null,
       "justify_content": null,
       "justify_items": null,
       "left": null,
       "margin": null,
       "max_height": null,
       "max_width": null,
       "min_height": null,
       "min_width": null,
       "object_fit": null,
       "object_position": null,
       "order": null,
       "overflow": null,
       "overflow_x": null,
       "overflow_y": null,
       "padding": null,
       "right": null,
       "top": null,
       "visibility": null,
       "width": null
      }
     }
    },
    "version_major": 2,
    "version_minor": 0
   }
  }
 },
 "nbformat": 4,
 "nbformat_minor": 5
}
